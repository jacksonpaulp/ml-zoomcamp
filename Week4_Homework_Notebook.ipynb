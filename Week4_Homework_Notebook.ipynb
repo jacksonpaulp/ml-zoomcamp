{
 "cells": [
  {
   "cell_type": "code",
   "execution_count": 202,
   "id": "6b7f611b",
   "metadata": {},
   "outputs": [],
   "source": [
    "import pandas as pd\n",
    "import numpy as np\n",
    "import matplotlib.pyplot as plt\n",
    "import seaborn as sns\n",
    "%matplotlib inline\n",
    "\n",
    "from sklearn.model_selection import train_test_split, KFold\n",
    "from sklearn.metrics import auc, roc_auc_score, accuracy_score, precision_score, recall_score, precision_recall_curve, f1_score\n",
    "from sklearn.preprocessing import MinMaxScaler\n",
    "from sklearn.feature_extraction import DictVectorizer\n",
    "from sklearn.linear_model import LogisticRegression\n"
   ]
  },
  {
   "cell_type": "code",
   "execution_count": null,
   "id": "e5accb7d",
   "metadata": {},
   "outputs": [],
   "source": []
  },
  {
   "cell_type": "code",
   "execution_count": 175,
   "id": "db2c716d",
   "metadata": {},
   "outputs": [],
   "source": [
    "data = 'https://raw.githubusercontent.com/alexeygrigorev/datasets/master/AER_credit_card_data.csv'\n",
    "#!python -m wget $data\n"
   ]
  },
  {
   "cell_type": "code",
   "execution_count": 176,
   "id": "87415bf8",
   "metadata": {},
   "outputs": [],
   "source": [
    "credit_card_df = pd.read_csv('./AER_credit_card_data.csv')"
   ]
  },
  {
   "cell_type": "code",
   "execution_count": 177,
   "id": "511cc35d",
   "metadata": {},
   "outputs": [
    {
     "data": {
      "text/html": [
       "<div>\n",
       "<style scoped>\n",
       "    .dataframe tbody tr th:only-of-type {\n",
       "        vertical-align: middle;\n",
       "    }\n",
       "\n",
       "    .dataframe tbody tr th {\n",
       "        vertical-align: top;\n",
       "    }\n",
       "\n",
       "    .dataframe thead th {\n",
       "        text-align: right;\n",
       "    }\n",
       "</style>\n",
       "<table border=\"1\" class=\"dataframe\">\n",
       "  <thead>\n",
       "    <tr style=\"text-align: right;\">\n",
       "      <th></th>\n",
       "      <th>card</th>\n",
       "      <th>reports</th>\n",
       "      <th>age</th>\n",
       "      <th>income</th>\n",
       "      <th>share</th>\n",
       "      <th>expenditure</th>\n",
       "      <th>owner</th>\n",
       "      <th>selfemp</th>\n",
       "      <th>dependents</th>\n",
       "      <th>months</th>\n",
       "      <th>majorcards</th>\n",
       "      <th>active</th>\n",
       "    </tr>\n",
       "  </thead>\n",
       "  <tbody>\n",
       "    <tr>\n",
       "      <th>0</th>\n",
       "      <td>yes</td>\n",
       "      <td>0</td>\n",
       "      <td>37.66667</td>\n",
       "      <td>4.5200</td>\n",
       "      <td>0.033270</td>\n",
       "      <td>124.983300</td>\n",
       "      <td>yes</td>\n",
       "      <td>no</td>\n",
       "      <td>3</td>\n",
       "      <td>54</td>\n",
       "      <td>1</td>\n",
       "      <td>12</td>\n",
       "    </tr>\n",
       "    <tr>\n",
       "      <th>1</th>\n",
       "      <td>yes</td>\n",
       "      <td>0</td>\n",
       "      <td>33.25000</td>\n",
       "      <td>2.4200</td>\n",
       "      <td>0.005217</td>\n",
       "      <td>9.854167</td>\n",
       "      <td>no</td>\n",
       "      <td>no</td>\n",
       "      <td>3</td>\n",
       "      <td>34</td>\n",
       "      <td>1</td>\n",
       "      <td>13</td>\n",
       "    </tr>\n",
       "    <tr>\n",
       "      <th>2</th>\n",
       "      <td>yes</td>\n",
       "      <td>0</td>\n",
       "      <td>33.66667</td>\n",
       "      <td>4.5000</td>\n",
       "      <td>0.004156</td>\n",
       "      <td>15.000000</td>\n",
       "      <td>yes</td>\n",
       "      <td>no</td>\n",
       "      <td>4</td>\n",
       "      <td>58</td>\n",
       "      <td>1</td>\n",
       "      <td>5</td>\n",
       "    </tr>\n",
       "    <tr>\n",
       "      <th>3</th>\n",
       "      <td>yes</td>\n",
       "      <td>0</td>\n",
       "      <td>30.50000</td>\n",
       "      <td>2.5400</td>\n",
       "      <td>0.065214</td>\n",
       "      <td>137.869200</td>\n",
       "      <td>no</td>\n",
       "      <td>no</td>\n",
       "      <td>0</td>\n",
       "      <td>25</td>\n",
       "      <td>1</td>\n",
       "      <td>7</td>\n",
       "    </tr>\n",
       "    <tr>\n",
       "      <th>4</th>\n",
       "      <td>yes</td>\n",
       "      <td>0</td>\n",
       "      <td>32.16667</td>\n",
       "      <td>9.7867</td>\n",
       "      <td>0.067051</td>\n",
       "      <td>546.503300</td>\n",
       "      <td>yes</td>\n",
       "      <td>no</td>\n",
       "      <td>2</td>\n",
       "      <td>64</td>\n",
       "      <td>1</td>\n",
       "      <td>5</td>\n",
       "    </tr>\n",
       "  </tbody>\n",
       "</table>\n",
       "</div>"
      ],
      "text/plain": [
       "  card  reports       age  income     share  expenditure owner selfemp  \\\n",
       "0  yes        0  37.66667  4.5200  0.033270   124.983300   yes      no   \n",
       "1  yes        0  33.25000  2.4200  0.005217     9.854167    no      no   \n",
       "2  yes        0  33.66667  4.5000  0.004156    15.000000   yes      no   \n",
       "3  yes        0  30.50000  2.5400  0.065214   137.869200    no      no   \n",
       "4  yes        0  32.16667  9.7867  0.067051   546.503300   yes      no   \n",
       "\n",
       "   dependents  months  majorcards  active  \n",
       "0           3      54           1      12  \n",
       "1           3      34           1      13  \n",
       "2           4      58           1       5  \n",
       "3           0      25           1       7  \n",
       "4           2      64           1       5  "
      ]
     },
     "execution_count": 177,
     "metadata": {},
     "output_type": "execute_result"
    }
   ],
   "source": [
    "credit_card_df.head()"
   ]
  },
  {
   "cell_type": "code",
   "execution_count": 178,
   "id": "e1d7a1df",
   "metadata": {},
   "outputs": [],
   "source": [
    "#target variable\n",
    "\n",
    "credit_card_df['card'] = credit_card_df['card'].replace({'yes':1, 'no':0}) "
   ]
  },
  {
   "cell_type": "code",
   "execution_count": 179,
   "id": "e229f8df",
   "metadata": {},
   "outputs": [
    {
     "data": {
      "text/plain": [
       "1    1023\n",
       "0     296\n",
       "Name: card, dtype: int64"
      ]
     },
     "execution_count": 179,
     "metadata": {},
     "output_type": "execute_result"
    }
   ],
   "source": [
    "credit_card_df.card.value_counts()"
   ]
  },
  {
   "cell_type": "code",
   "execution_count": 180,
   "id": "ed96b002",
   "metadata": {},
   "outputs": [],
   "source": [
    "#Splitting into train, validation and test data\n",
    "\n",
    "fulltrain, test = train_test_split(credit_card_df,test_size=0.2, random_state=1)\n",
    "train, val = train_test_split(fulltrain,test_size=0.25, random_state=1)"
   ]
  },
  {
   "cell_type": "code",
   "execution_count": 181,
   "id": "29d43e54",
   "metadata": {},
   "outputs": [
    {
     "data": {
      "text/plain": [
       "((791, 12), (264, 12), (264, 12))"
      ]
     },
     "execution_count": 181,
     "metadata": {},
     "output_type": "execute_result"
    }
   ],
   "source": [
    "train.shape, val.shape, test.shape"
   ]
  },
  {
   "cell_type": "code",
   "execution_count": 182,
   "id": "981cf285",
   "metadata": {},
   "outputs": [],
   "source": [
    "#numerical variables\n",
    "numeric_columns = fulltrain.columns[(fulltrain.dtypes!='O') & (fulltrain.columns!='card')]\n",
    "\n",
    "#categorical columns\n",
    "categorical_columns = fulltrain.columns[fulltrain.dtypes=='O']"
   ]
  },
  {
   "cell_type": "code",
   "execution_count": 183,
   "id": "fe1900eb",
   "metadata": {},
   "outputs": [],
   "source": [
    "#checking feature importance using AUC"
   ]
  },
  {
   "cell_type": "code",
   "execution_count": 184,
   "id": "70de6a9a",
   "metadata": {},
   "outputs": [],
   "source": [
    "minmax_scaler = MinMaxScaler()\n",
    "df_scaled = minmax_scaler.fit_transform(train[numeric_columns].to_numpy())\n",
    "df_scaled = pd.DataFrame(df_scaled, columns=numeric_columns)\n",
    "\n",
    "auc_dict = {}\n",
    "for col in numeric_columns:\n",
    "    auc_df = pd.DataFrame(list(zip(train['card'], df_scaled[col])), columns=['card', col])\n",
    "    auc_df = auc_df.sort_values(by=col)\n",
    "#     if auc_df.corr()['card'][col]<0:\n",
    "#         auc_df[col]=-auc_df[col]\n",
    "    auc_dict[col] = auc(auc_df[col], auc_df['card'])\n",
    "    del auc_df\n",
    "    "
   ]
  },
  {
   "cell_type": "code",
   "execution_count": 185,
   "id": "18abe060",
   "metadata": {},
   "outputs": [
    {
     "data": {
      "text/plain": [
       "{'reports': 0.14285714285714285,\n",
       " 'age': 0.7860002199143998,\n",
       " 'income': 0.6769139123750959,\n",
       " 'share': 0.9988696403481753,\n",
       " 'expenditure': 0.9999318035208151,\n",
       " 'dependents': 0.5833333333333334,\n",
       " 'months': 0.6546296296296296,\n",
       " 'majorcards': 1.0,\n",
       " 'active': 0.5652173913043478}"
      ]
     },
     "execution_count": 185,
     "metadata": {},
     "output_type": "execute_result"
    }
   ],
   "source": [
    "auc_dict"
   ]
  },
  {
   "cell_type": "code",
   "execution_count": 186,
   "id": "608187b5",
   "metadata": {},
   "outputs": [
    {
     "data": {
      "text/plain": [
       "0.14285714285714285"
      ]
     },
     "execution_count": 186,
     "metadata": {},
     "output_type": "execute_result"
    }
   ],
   "source": [
    "auc_df = pd.DataFrame(list(zip(train['card'], df_scaled['reports'])), columns=['card', 'reports'])\n",
    "auc_df = auc_df.sort_values(by='reports')\n",
    "auc_df['reports']=-auc_df['reports']\n",
    "auc(auc_df['reports'], auc_df['card'])"
   ]
  },
  {
   "cell_type": "code",
   "execution_count": 187,
   "id": "fa75b1c1",
   "metadata": {},
   "outputs": [],
   "source": [
    "X_train = train[[\"reports\", \"age\", \"income\", \"share\", \"expenditure\", \"dependents\", \"months\", \"majorcards\", \"active\", \"owner\", \"selfemp\"]]\n",
    "X_test = test[[\"reports\", \"age\", \"income\", \"share\", \"expenditure\", \"dependents\", \"months\", \"majorcards\", \"active\", \"owner\", \"selfemp\"]]\n",
    "X_val = val[[\"reports\", \"age\", \"income\", \"share\", \"expenditure\", \"dependents\", \"months\", \"majorcards\", \"active\", \"owner\", \"selfemp\"]]\n",
    "\n",
    "y_train = train['card']\n",
    "y_test = test['card']\n",
    "y_val = val['card']"
   ]
  },
  {
   "cell_type": "code",
   "execution_count": 188,
   "id": "68db730c",
   "metadata": {},
   "outputs": [],
   "source": [
    "dv = DictVectorizer(sparse=False)\n",
    "train_dict = X_train.to_dict('records')\n",
    "X_train = dv.fit_transform(train_dict)\n",
    "\n",
    "\n",
    "def one_hot_encode_input_df(dv, df):\n",
    "    dict_from_df = df.to_dict('records')\n",
    "    vectorised_array = dv.transform(dict_from_df)\n",
    "    return vectorised_array\n",
    "\n",
    "X_val = one_hot_encode_input_df(dv, X_val)\n",
    "X_test = one_hot_encode_input_df(dv, X_test)\n",
    "\n"
   ]
  },
  {
   "cell_type": "code",
   "execution_count": 189,
   "id": "f8cf8087",
   "metadata": {},
   "outputs": [],
   "source": [
    "#Training Logistic Regression Model\n",
    "model1 = LogisticRegression(solver='liblinear', C=1.0, max_iter=1000)"
   ]
  },
  {
   "cell_type": "code",
   "execution_count": 190,
   "id": "1da13cc5",
   "metadata": {},
   "outputs": [],
   "source": [
    "model1.fit(X_train, y_train)\n",
    "y_pred_probability = model1.predict_proba(X_val)[:,1]"
   ]
  },
  {
   "cell_type": "code",
   "execution_count": 191,
   "id": "b3a49401",
   "metadata": {},
   "outputs": [],
   "source": [
    "t = 0.5\n",
    "y_pred = np.multiply((y_pred_probability > t),1)"
   ]
  },
  {
   "cell_type": "code",
   "execution_count": 192,
   "id": "581c9c23",
   "metadata": {},
   "outputs": [
    {
     "data": {
      "text/plain": [
       "0.938238941711451"
      ]
     },
     "execution_count": 192,
     "metadata": {},
     "output_type": "execute_result"
    }
   ],
   "source": [
    "#calculating auc\n",
    "\n",
    "auc_val = roc_auc_score(y_pred, y_val)\n",
    "auc_val"
   ]
  },
  {
   "cell_type": "code",
   "execution_count": 193,
   "id": "0c46bbc1",
   "metadata": {},
   "outputs": [
    {
     "data": {
      "text/plain": [
       "0.9696969696969697"
      ]
     },
     "execution_count": 193,
     "metadata": {},
     "output_type": "execute_result"
    }
   ],
   "source": [
    "#calculating accuracy \n",
    "\n",
    "score = accuracy_score(y_val, y_pred)\n",
    "score"
   ]
  },
  {
   "cell_type": "code",
   "execution_count": 194,
   "id": "176a8907",
   "metadata": {},
   "outputs": [
    {
     "name": "stderr",
     "output_type": "stream",
     "text": [
      "D:\\Analytics\\study\\Analytics\\MLBookcamp\\ml-zoomcamp\\lib\\site-packages\\sklearn\\metrics\\_classification.py:1334: UndefinedMetricWarning: Precision is ill-defined and being set to 0.0 due to no predicted samples. Use `zero_division` parameter to control this behavior.\n",
      "  _warn_prf(average, modifier, msg_start, len(result))\n"
     ]
    }
   ],
   "source": [
    "precision = []\n",
    "recall = []\n",
    "f1 = []\n",
    "\n",
    "for t in np.linspace(0,1, 11):\n",
    "    y_pred = np.multiply((y_pred_probability > t),1)\n",
    "    precision.append(precision_score(y_val, y_pred))\n",
    "    recall.append(recall_score(y_val, y_pred))\n",
    "    f1.append(f1_score(y_val, y_pred))"
   ]
  },
  {
   "cell_type": "code",
   "execution_count": 195,
   "id": "1c798999",
   "metadata": {},
   "outputs": [],
   "source": [
    "pr_df = pd.DataFrame(zip(precision, recall), index=np.linspace(0,1, 11), columns=['precision', 'recall'])"
   ]
  },
  {
   "cell_type": "code",
   "execution_count": 196,
   "id": "6ac70ab6",
   "metadata": {},
   "outputs": [
    {
     "data": {
      "text/plain": [
       "[<matplotlib.lines.Line2D at 0x29bfea2f730>]"
      ]
     },
     "execution_count": 196,
     "metadata": {},
     "output_type": "execute_result"
    },
    {
     "data": {
      "image/png": "[encoded data removed]",
      "text/plain": [
       "<Figure size 640x480 with 1 Axes>"
      ]
     },
     "metadata": {},
     "output_type": "display_data"
    }
   ],
   "source": [
    "plt.plot(pr_df.index, pr_df['precision'])\n",
    "plt.plot(pr_df.index, pr_df['recall'])"
   ]
  },
  {
   "cell_type": "code",
   "execution_count": 200,
   "id": "fe213ce1",
   "metadata": {},
   "outputs": [
    {
     "data": {
      "text/plain": [
       "[0.8884210526315789,\n",
       " 0.958904109589041,\n",
       " 0.9787234042553191,\n",
       " 0.9738717339667459,\n",
       " 0.9832134292565947,\n",
       " 0.9807692307692307,\n",
       " 0.9807692307692307,\n",
       " 0.9807692307692307,\n",
       " 0.9807692307692307,\n",
       " 0.983132530120482,\n",
       " 0.0]"
      ]
     },
     "execution_count": 200,
     "metadata": {},
     "output_type": "execute_result"
    }
   ],
   "source": [
    "f1"
   ]
  },
  {
   "cell_type": "code",
   "execution_count": null,
   "id": "d2376f62",
   "metadata": {},
   "outputs": [],
   "source": []
  },
  {
   "cell_type": "code",
   "execution_count": 209,
   "id": "8dd07e67",
   "metadata": {},
   "outputs": [
    {
     "name": "stdout",
     "output_type": "stream",
     "text": [
      "Mean Score : 0.9918810292344007, Std_dev : 0.00559887235402738\n",
      "Mean Score : 0.9950557137157224, Std_dev : 0.003954138088244392\n",
      "Mean Score : 0.9964498276814243, Std_dev : 0.0027434713804377724\n",
      "Mean Score : 0.9963886109436032, Std_dev : 0.0028151486609295684\n"
     ]
    }
   ],
   "source": [
    "def train(df, C):\n",
    "    y_train = df['card'].values\n",
    "    x_dict = df.drop('card', axis=1).to_dict(orient='records')\n",
    "    \n",
    "    dv = DictVectorizer(sparse=False)\n",
    "    X_train = dv.fit_transform(x_dict)\n",
    "    \n",
    "    model = LogisticRegression(solver='liblinear', C=C, max_iter=1000)\n",
    "    model.fit(X_train, y_train)\n",
    "    \n",
    "    return dv, model\n",
    "\n",
    "def predict(df, dv, model):\n",
    "    x_dict = df.drop('card', axis=1).to_dict(orient='records')\n",
    "    X = dv.transform(x_dict)\n",
    "    y_true = df['card'].values\n",
    "    y_pred = model.predict_proba(X)[:,1]\n",
    "    \n",
    "    return y_true, y_pred\n",
    "    \n",
    "kfold = KFold(n_splits=5, shuffle=True, random_state=1)\n",
    "\n",
    "C = [0.01, 0.1, 1, 10]\n",
    "\n",
    "for C in C:\n",
    " \n",
    "    score = []\n",
    "\n",
    "    for train_idx, val_idx in kfold.split(fulltrain):\n",
    "        train_df_cv = fulltrain.iloc[train_idx]\n",
    "        val_df_cv = fulltrain.iloc[val_idx]\n",
    "\n",
    "        dv, model = train(train_df_cv, C)\n",
    "        y_true, y_pred = predict(val_df_cv, dv, model)\n",
    "\n",
    "        auc = roc_auc_score(y_true, y_pred)\n",
    "        score.append(auc)\n",
    "        \n",
    "    print(f'Mean Score : {np.mean(score)}, Std_dev : {np.std(score)}')\n",
    "    \n",
    "    \n",
    "    "
   ]
  },
  {
   "cell_type": "code",
   "execution_count": 207,
   "id": "b2297340",
   "metadata": {},
   "outputs": [
    {
     "data": {
      "text/plain": [
       "[0.9941860465116279,\n",
       " 0.9941176470588236,\n",
       " 0.9943346508563901,\n",
       " 0.9996107939802803,\n",
       " 1.0]"
      ]
     },
     "execution_count": 207,
     "metadata": {},
     "output_type": "execute_result"
    }
   ],
   "source": [
    "score"
   ]
  },
  {
   "cell_type": "code",
   "execution_count": 208,
   "id": "9ca5ecc3",
   "metadata": {},
   "outputs": [
    {
     "data": {
      "text/plain": [
       "0.0027434713804377724"
      ]
     },
     "execution_count": 208,
     "metadata": {},
     "output_type": "execute_result"
    }
   ],
   "source": [
    "np.std(score)"
   ]
  },
  {
   "cell_type": "code",
   "execution_count": null,
   "id": "53a4bb68",
   "metadata": {},
   "outputs": [],
   "source": []
  }
 ],
 "metadata": {
  "kernelspec": {
   "display_name": "Python 3 (ipykernel)",
   "language": "python",
   "name": "python3"
  },
  "language_info": {
   "codemirror_mode": {
    "name": "ipython",
    "version": 3
   },
   "file_extension": ".py",
   "mimetype": "text/x-python",
   "name": "python",
   "nbconvert_exporter": "python",
   "pygments_lexer": "ipython3",
   "version": "3.10.5"
  }
 },
 "nbformat": 4,
 "nbformat_minor": 5
}
